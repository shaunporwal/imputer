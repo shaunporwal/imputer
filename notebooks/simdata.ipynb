{
 "cells": [
  {
   "cell_type": "code",
   "execution_count": 3,
   "id": "1734ee75-afbd-4e90-a69e-65049cfb62e6",
   "metadata": {},
   "outputs": [],
   "source": [
    "import os"
   ]
  },
  {
   "cell_type": "code",
   "execution_count": 4,
   "id": "788783d4-c2bd-4c74-9d8a-0d714ed0f7ff",
   "metadata": {},
   "outputs": [
    {
     "data": {
      "text/plain": [
       "'/Users/porwals/Documents/GitHub/python_packages/imputer/notebooks'"
      ]
     },
     "execution_count": 4,
     "metadata": {},
     "output_type": "execute_result"
    }
   ],
   "source": [
    "os.getcwd()"
   ]
  },
  {
   "cell_type": "code",
   "execution_count": 1,
   "id": "2e7eb484-0fb8-46ed-95b8-38e93b2ffe57",
   "metadata": {},
   "outputs": [],
   "source": [
    "import pandas as pd\n",
    "import numpy as np\n",
    "\n",
    "# Define a sample dataset\n",
    "data = {\n",
    "    \"ID\": range(1, 11),\n",
    "    \"Age\": [32, 45, 29, 51, 60, 27, 34, 49, 38, 44],\n",
    "    \"Gender\": [\"Male\", \"Female\", \"Male\", \"Female\", np.nan, \"Female\", \"Male\", np.nan, \"Female\", \"Male\"],\n",
    "    \"Symptoms\": [\n",
    "        \"Fever, Cough\", \"Chest Pain, Shortness of Breath\", \"Fever\", \n",
    "        \"Headache, Nausea\", \"Joint Pain, Fatigue\", \"Back Pain\", \n",
    "        \"Sore Throat\", \"Cough, Chest Pain\", \"Fatigue, Nausea\", \"Fever, Headache\"\n",
    "    ],\n",
    "    \"Diagnosis\": [\"Flu\", \"Heart Disease\", \"Flu\", np.nan, \"Arthritis\", np.nan, \"Cold\", \"Heart Disease\", np.nan, \"Flu\"],\n",
    "    \"Treatment\": [\"Tamiflu\", \"Aspirin, Lifestyle Change\", np.nan, \"Ibuprofen\", \"NSAIDs\", np.nan, \"Rest\", \"Aspirin\", \"NSAIDs\", np.nan]\n",
    "}\n",
    "\n",
    "# Create DataFrame\n",
    "df = pd.DataFrame(data)\n"
   ]
  },
  {
   "cell_type": "code",
   "execution_count": 2,
   "id": "b5cd0692-ddbc-4434-9d21-088c24239fe7",
   "metadata": {},
   "outputs": [
    {
     "data": {
      "text/html": [
       "<div>\n",
       "<style scoped>\n",
       "    .dataframe tbody tr th:only-of-type {\n",
       "        vertical-align: middle;\n",
       "    }\n",
       "\n",
       "    .dataframe tbody tr th {\n",
       "        vertical-align: top;\n",
       "    }\n",
       "\n",
       "    .dataframe thead th {\n",
       "        text-align: right;\n",
       "    }\n",
       "</style>\n",
       "<table border=\"1\" class=\"dataframe\">\n",
       "  <thead>\n",
       "    <tr style=\"text-align: right;\">\n",
       "      <th></th>\n",
       "      <th>ID</th>\n",
       "      <th>Age</th>\n",
       "      <th>Gender</th>\n",
       "      <th>Symptoms</th>\n",
       "      <th>Diagnosis</th>\n",
       "      <th>Treatment</th>\n",
       "    </tr>\n",
       "  </thead>\n",
       "  <tbody>\n",
       "    <tr>\n",
       "      <th>0</th>\n",
       "      <td>1</td>\n",
       "      <td>32</td>\n",
       "      <td>Male</td>\n",
       "      <td>Fever, Cough</td>\n",
       "      <td>Flu</td>\n",
       "      <td>Tamiflu</td>\n",
       "    </tr>\n",
       "    <tr>\n",
       "      <th>1</th>\n",
       "      <td>2</td>\n",
       "      <td>45</td>\n",
       "      <td>Female</td>\n",
       "      <td>Chest Pain, Shortness of Breath</td>\n",
       "      <td>Heart Disease</td>\n",
       "      <td>Aspirin, Lifestyle Change</td>\n",
       "    </tr>\n",
       "    <tr>\n",
       "      <th>2</th>\n",
       "      <td>3</td>\n",
       "      <td>29</td>\n",
       "      <td>Male</td>\n",
       "      <td>Fever</td>\n",
       "      <td>Flu</td>\n",
       "      <td>NaN</td>\n",
       "    </tr>\n",
       "    <tr>\n",
       "      <th>3</th>\n",
       "      <td>4</td>\n",
       "      <td>51</td>\n",
       "      <td>Female</td>\n",
       "      <td>Headache, Nausea</td>\n",
       "      <td>NaN</td>\n",
       "      <td>Ibuprofen</td>\n",
       "    </tr>\n",
       "    <tr>\n",
       "      <th>4</th>\n",
       "      <td>5</td>\n",
       "      <td>60</td>\n",
       "      <td>NaN</td>\n",
       "      <td>Joint Pain, Fatigue</td>\n",
       "      <td>Arthritis</td>\n",
       "      <td>NSAIDs</td>\n",
       "    </tr>\n",
       "    <tr>\n",
       "      <th>5</th>\n",
       "      <td>6</td>\n",
       "      <td>27</td>\n",
       "      <td>Female</td>\n",
       "      <td>Back Pain</td>\n",
       "      <td>NaN</td>\n",
       "      <td>NaN</td>\n",
       "    </tr>\n",
       "    <tr>\n",
       "      <th>6</th>\n",
       "      <td>7</td>\n",
       "      <td>34</td>\n",
       "      <td>Male</td>\n",
       "      <td>Sore Throat</td>\n",
       "      <td>Cold</td>\n",
       "      <td>Rest</td>\n",
       "    </tr>\n",
       "    <tr>\n",
       "      <th>7</th>\n",
       "      <td>8</td>\n",
       "      <td>49</td>\n",
       "      <td>NaN</td>\n",
       "      <td>Cough, Chest Pain</td>\n",
       "      <td>Heart Disease</td>\n",
       "      <td>Aspirin</td>\n",
       "    </tr>\n",
       "    <tr>\n",
       "      <th>8</th>\n",
       "      <td>9</td>\n",
       "      <td>38</td>\n",
       "      <td>Female</td>\n",
       "      <td>Fatigue, Nausea</td>\n",
       "      <td>NaN</td>\n",
       "      <td>NSAIDs</td>\n",
       "    </tr>\n",
       "    <tr>\n",
       "      <th>9</th>\n",
       "      <td>10</td>\n",
       "      <td>44</td>\n",
       "      <td>Male</td>\n",
       "      <td>Fever, Headache</td>\n",
       "      <td>Flu</td>\n",
       "      <td>NaN</td>\n",
       "    </tr>\n",
       "  </tbody>\n",
       "</table>\n",
       "</div>"
      ],
      "text/plain": [
       "   ID  Age  Gender                         Symptoms      Diagnosis  \\\n",
       "0   1   32    Male                     Fever, Cough            Flu   \n",
       "1   2   45  Female  Chest Pain, Shortness of Breath  Heart Disease   \n",
       "2   3   29    Male                            Fever            Flu   \n",
       "3   4   51  Female                 Headache, Nausea            NaN   \n",
       "4   5   60     NaN              Joint Pain, Fatigue      Arthritis   \n",
       "5   6   27  Female                        Back Pain            NaN   \n",
       "6   7   34    Male                      Sore Throat           Cold   \n",
       "7   8   49     NaN                Cough, Chest Pain  Heart Disease   \n",
       "8   9   38  Female                  Fatigue, Nausea            NaN   \n",
       "9  10   44    Male                  Fever, Headache            Flu   \n",
       "\n",
       "                   Treatment  \n",
       "0                    Tamiflu  \n",
       "1  Aspirin, Lifestyle Change  \n",
       "2                        NaN  \n",
       "3                  Ibuprofen  \n",
       "4                     NSAIDs  \n",
       "5                        NaN  \n",
       "6                       Rest  \n",
       "7                    Aspirin  \n",
       "8                     NSAIDs  \n",
       "9                        NaN  "
      ]
     },
     "execution_count": 2,
     "metadata": {},
     "output_type": "execute_result"
    }
   ],
   "source": [
    "df"
   ]
  },
  {
   "cell_type": "code",
   "execution_count": null,
   "id": "32e667be-3248-4bb4-a082-0da777be4459",
   "metadata": {},
   "outputs": [],
   "source": []
  },
  {
   "cell_type": "code",
   "execution_count": 5,
   "id": "91a9b52d-8ad8-4967-98ff-10172d113ee0",
   "metadata": {},
   "outputs": [],
   "source": [
    "# Save to CSV\n",
    "df.to_csv(\"../data/sim_medical_data.csv\", index=False)"
   ]
  },
  {
   "cell_type": "code",
   "execution_count": null,
   "id": "5cacde10-2b69-486a-abd0-38e3752ed33d",
   "metadata": {},
   "outputs": [],
   "source": []
  }
 ],
 "metadata": {
  "kernelspec": {
   "display_name": "Python 3 (ipykernel)",
   "language": "python",
   "name": "python3"
  },
  "language_info": {
   "codemirror_mode": {
    "name": "ipython",
    "version": 3
   },
   "file_extension": ".py",
   "mimetype": "text/x-python",
   "name": "python",
   "nbconvert_exporter": "python",
   "pygments_lexer": "ipython3",
   "version": "3.12.6"
  }
 },
 "nbformat": 4,
 "nbformat_minor": 5
}
